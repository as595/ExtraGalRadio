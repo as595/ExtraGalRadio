{
 "cells": [
  {
   "cell_type": "code",
   "execution_count": 1,
   "metadata": {},
   "outputs": [],
   "source": [
    "from astropy.cosmology import WMAP9 as cosmo\n",
    "from scipy.integrate import quad\n",
    "import numpy as np"
   ]
  },
  {
   "cell_type": "code",
   "execution_count": 2,
   "metadata": {},
   "outputs": [],
   "source": [
    "mpc2m = 3.086e22\n",
    "pc2cm = 3.086e18"
   ]
  },
  {
   "cell_type": "code",
   "execution_count": 3,
   "metadata": {},
   "outputs": [],
   "source": [
    "def calc_alpha0(L):\n",
    "    \n",
    "    \"\"\"\n",
    "    Spectral index at 60um at z=0\n",
    "    Ref: http://articles.adsabs.harvard.edu/cgi-bin/nph-iarticle_query?1987ApJ...316L..15H&amp;data_type=PDF_HIGH&amp;whole_paper=YES&amp;type=PRINTER&amp;filetype=.pdf\n",
    "    \"\"\"\n",
    "    \n",
    "    if (L<1e22):\n",
    "        alpha0 = 2.7\n",
    "    elif (L>1e22) and (L<10**(25.4)):\n",
    "        alpha0 = 2.7 - 0.5*np.log10(L/1e22)\n",
    "    elif (L>10**(25.4)):\n",
    "        alpha0 = 1.0\n",
    "    \n",
    "    return alpha0"
   ]
  },
  {
   "cell_type": "code",
   "execution_count": 4,
   "metadata": {},
   "outputs": [],
   "source": [
    "def alpha_60(L,z):\n",
    "    \n",
    "    \"\"\"\n",
    "    Spectral index at 60um\n",
    "    Ref: http://articles.adsabs.harvard.edu/cgi-bin/nph-iarticle_query?1987ApJ...316L..15H&amp;data_type=PDF_HIGH&amp;whole_paper=YES&amp;type=PRINTER&amp;filetype=.pdf\n",
    "    \"\"\"\n",
    "    \n",
    "    alpha_25 = 2.4\n",
    "    alpha_0 = calc_alpha0(L)\n",
    "    \n",
    "    if (z>0.41):\n",
    "        alpha = alpha_25\n",
    "    elif (z<=0.41):\n",
    "        alpha = alpha_25*( np.log10(1+z)/np.log10(1.41) ) + alpha_0*( np.log10((1+z)/1.41) / np.log(1.41) )\n",
    "    \n",
    "    return alpha"
   ]
  },
  {
   "cell_type": "code",
   "execution_count": 5,
   "metadata": {},
   "outputs": [],
   "source": [
    "def rho_0(L):\n",
    "    \n",
    "    \"\"\"\n",
    "    Eq. 13 & 14 from PB96: https://arxiv.org/pdf/astro-ph/9605119.pdf\n",
    "    \"\"\"\n",
    "    \n",
    "    b = 1.51\n",
    "    w = 0.85\n",
    "    x = 23.96\n",
    "    y = 5.93\n",
    "    \n",
    "    q = y - ( b**2 + ((np.log10(L) - x)/w)**2 )**0.5 - 2.5*np.log10(L)\n",
    "    \n",
    "    rho0 = 2.94e28*10**q  # Mpc^-3 (Watts Hz^-1)^-1\n",
    "    rho0/= (mpc2m)**3\n",
    "    \n",
    "    return rho0"
   ]
  },
  {
   "cell_type": "code",
   "execution_count": 6,
   "metadata": {},
   "outputs": [],
   "source": [
    "def calc_L60_integrand(L60,z):\n",
    "    \n",
    "    \"\"\"\n",
    "    Integrand for nested integral from Eq. 16 of PB96: https://arxiv.org/pdf/astro-ph/9605119.pdf\n",
    "    Uses fitted luminosity evolution from Eq. 22 of PB96: https://arxiv.org/pdf/astro-ph/9605119.pdf\n",
    "    \"\"\"\n",
    "    \n",
    "    g_z = 1.\n",
    "    \n",
    "    z0 = 0.8\n",
    "    if (z<z0):\n",
    "        f_z = (1+z)**4\n",
    "    elif (z>=z0):\n",
    "        f_z = (1+z0)**4\n",
    "\n",
    "    # Equation 15 PB96:\n",
    "    Ldash = L60/f_z\n",
    "    rho_60_z = (g_z/f_z)*rho_0(Ldash)\n",
    "    \n",
    "    # ratio of L_1.4GHz to L_60um\n",
    "    # Eq 3 PB96:\n",
    "    alpha = alpha_60(L60,z)\n",
    "    lum_ratio = 1.69e-3*(2.58+1.67**alpha)\n",
    "    \n",
    "    integrand = rho_60_z*lum_ratio*L60\n",
    "    \n",
    "    return integrand"
   ]
  },
  {
   "cell_type": "code",
   "execution_count": 7,
   "metadata": {},
   "outputs": [],
   "source": [
    "def calc_z_integrand(z):\n",
    "    \n",
    "    \"\"\"\n",
    "    Integrand for Eq. 16 of PB96: https://arxiv.org/pdf/astro-ph/9605119.pdf\n",
    "    \n",
    "    \"\"\"\n",
    "    \n",
    "    # dVc/dz calculated following: https://ned.ipac.caltech.edu/level5/Hogg/Hogg9.html\n",
    "    # output in units of Mpc^3 sr^-1 (note d\\Omega in definition - sr probably normally\n",
    "    # neglected as dimensionless unit)\n",
    "    dVc_dz = cosmo.hubble_distance*(1+z)**2*cosmo.angular_diameter_distance(z)**2/cosmo.efunc(z)\n",
    "    dVc_dz_m3 = dVc_dz.value*mpc2m**3\n",
    "    \n",
    "    Dlum = cosmo.luminosity_distance(z)\n",
    "    \n",
    "    L60_min = 1e10; L60_max = 1e28\n",
    "    integral_L60 = quad(calc_L60_integrand,L60_min,L60_max,args=(z))[0]\n",
    "    \n",
    "    integrand = integral_L60*dVc_dz_m3*(1+z)/(4.*np.pi*Dlum.value**2*mpc2m**2)\n",
    "    \n",
    "    return integrand"
   ]
  },
  {
   "cell_type": "code",
   "execution_count": 8,
   "metadata": {},
   "outputs": [],
   "source": [
    "def calc_Inu():\n",
    "    \n",
    "    \"\"\"\n",
    "    Eq. 16 from PB96: https://arxiv.org/pdf/astro-ph/9605119.pdf\n",
    "    \n",
    "    Change: removed factor 1/4\\pi because dVc/dz already in units of m^3 sr^-1\n",
    "    \n",
    "    \"\"\"\n",
    "    zmin = 0.;zmax = 10.\n",
    "    integral_z = quad(calc_z_integrand,zmin,zmax)[0]\n",
    "    \n",
    "    #I_nu = (1./(4.*np.pi))*integral_z\n",
    "    I_nu = integral_z\n",
    "    \n",
    "    return I_nu"
   ]
  },
  {
   "cell_type": "code",
   "execution_count": 9,
   "metadata": {},
   "outputs": [
    {
     "name": "stdout",
     "output_type": "stream",
     "text": [
      "4.91399356873e-23\n"
     ]
    }
   ],
   "source": [
    "I_21cm = calc_Inu()\n",
    "\n",
    "print I_21cm"
   ]
  },
  {
   "cell_type": "markdown",
   "metadata": {},
   "source": [
    "---\n",
    "\n",
    "This next bit is just re-calculating $L_{\\nu}/L_{\\rm 1.4}$ from Fig 1(a) to go into Eq. 16:\n",
    "\n"
   ]
  },
  {
   "cell_type": "code",
   "execution_count": 10,
   "metadata": {},
   "outputs": [],
   "source": [
    "import pylab as pl\n",
    "\n",
    "from pacholcsyk import *\n",
    "from freefree import *"
   ]
  },
  {
   "cell_type": "code",
   "execution_count": 11,
   "metadata": {},
   "outputs": [],
   "source": [
    "gal_radius_kpc = 15.\n",
    "gal_height_kpc = 2.\n",
    "H_G = 6e-6\t\t\t\t# [G] = 6 uGauss  [CGS units]\n",
    "ne_cm = 0.01\t\t\t# cm^-3\t[CGS units]\n",
    "Te = 3e5\t\t\t\t# [K]\n",
    "N0 = 1e-8\t\t\t\t# what should this be..? [m^-3 MeV^-1]"
   ]
  },
  {
   "cell_type": "code",
   "execution_count": 12,
   "metadata": {},
   "outputs": [],
   "source": [
    "nu = 10**np.arange(3,10,0.1)  # 1 kHz -> 10 GHz"
   ]
  },
  {
   "cell_type": "code",
   "execution_count": 13,
   "metadata": {},
   "outputs": [
    {
     "name": "stderr",
     "output_type": "stream",
     "text": [
      "integrals.py:15: RuntimeWarning: divide by zero encountered in log\n",
      "  return quad(lambda x,*args: np.exp(x + np.log(func(np.exp(x),*args))), np.log(a), np.log(b), **kwargs)\n"
     ]
    }
   ],
   "source": [
    "em_nu = calc_em_synch(nu,H_G,N0)"
   ]
  },
  {
   "cell_type": "code",
   "execution_count": 14,
   "metadata": {},
   "outputs": [],
   "source": [
    "kappa_nu = kappa_ff(nu,ne_cm,Te)  # pc^-1\n",
    "kappa_nu/= pc2cm"
   ]
  },
  {
   "cell_type": "code",
   "execution_count": 15,
   "metadata": {},
   "outputs": [],
   "source": [
    "dl = gal_radius_kpc*1000.*pc2cm\n",
    "tau_nu = kappa_nu*dl # dimensionless"
   ]
  },
  {
   "cell_type": "code",
   "execution_count": 16,
   "metadata": {},
   "outputs": [],
   "source": [
    "em_nu = (em_nu/kappa_nu)*(1 - np.exp(-1.*tau_nu))"
   ]
  },
  {
   "cell_type": "code",
   "execution_count": 17,
   "metadata": {},
   "outputs": [],
   "source": [
    "nu_21cm = np.array([1.4e9])\n",
    "em_21cm = calc_em_synch(nu_21cm,H_G,N0)\n",
    "kappa_21cm = kappa_ff(nu_21cm,ne_cm,Te)  # pc^-1\n",
    "kappa_21cm/= pc2cm\n",
    "tau_21cm = kappa_21cm*dl # dimensionless\n",
    "em_21cm=(em_21cm/kappa_21cm)*(1 - np.exp(-1.*tau_21cm))"
   ]
  },
  {
   "cell_type": "code",
   "execution_count": 18,
   "metadata": {},
   "outputs": [],
   "source": [
    "i_nu = em_nu/em_21cm"
   ]
  },
  {
   "cell_type": "markdown",
   "metadata": {},
   "source": [
    "Now we've calculated it, we can make the spectrum from Fig 5(b):"
   ]
  },
  {
   "cell_type": "code",
   "execution_count": 19,
   "metadata": {},
   "outputs": [],
   "source": [
    "i_nu*= I_21cm"
   ]
  },
  {
   "cell_type": "code",
   "execution_count": 20,
   "metadata": {},
   "outputs": [
    {
     "data": {
      "image/png": "[encoded data removed]",
      "text/plain": [
       "<Figure size 432x288 with 1 Axes>"
      ]
     },
     "metadata": {},
     "output_type": "display_data"
    }
   ],
   "source": [
    "pl.subplot(111)\n",
    "pl.plot(nu/1e9,i_nu,ls=\":\")\n",
    "pl.axis([10**-6,10,10**(-23),10**(-18)])\n",
    "pl.xlabel(r\"$\\nu$ [GHz]\")\n",
    "pl.ylabel(r\"$I_{\\nu}$ [Watts m$^{-2}$ Hz$^{-1}$ sr$^{-1}$]\")\n",
    "pl.loglog()\n",
    "pl.show()"
   ]
  },
  {
   "cell_type": "markdown",
   "metadata": {},
   "source": [
    "This is shifted slightly to higher frequency compared to PB96 Fig 5(b) - I think that's due to the choice of viewing angle in calculating the free-free absorption in the spectrum"
   ]
  },
  {
   "cell_type": "code",
   "execution_count": null,
   "metadata": {},
   "outputs": [],
   "source": []
  }
 ],
 "metadata": {
  "kernelspec": {
   "display_name": "Python 2",
   "language": "python",
   "name": "python2"
  },
  "language_info": {
   "codemirror_mode": {
    "name": "ipython",
    "version": 2
   },
   "file_extension": ".py",
   "mimetype": "text/x-python",
   "name": "python",
   "nbconvert_exporter": "python",
   "pygments_lexer": "ipython2",
   "version": "2.7.15"
  }
 },
 "nbformat": 4,
 "nbformat_minor": 2
}
