{
 "cells": [
  {
   "cell_type": "code",
   "execution_count": 1,
   "metadata": {},
   "outputs": [],
   "source": [
    "import numpy as np\n",
    "import pylab as pl\n",
    "\n",
    "from pacholcsyk import *"
   ]
  },
  {
   "cell_type": "markdown",
   "metadata": {},
   "source": [
    "To start with we can define a few parameters of the galaxy. \n",
    "\n",
    "- We'll model it as a solid disk with width 2kpc and a radius of 15kpc. \n",
    "\n",
    "- We'll assume a galactic magnetic field strength of 6 $\\mu$G.\n",
    "\n",
    "- We'll assume a thermal electron density of 0.01 cm$^{-3}$\n",
    "\n",
    "- We'll assume a thermal electron temperature of $3\\times 10^5$ K."
   ]
  },
  {
   "cell_type": "code",
   "execution_count": 2,
   "metadata": {},
   "outputs": [],
   "source": [
    "gal_radius_kpc = 15.\n",
    "gal_height_kpc = 2.\n",
    "H_G = 6e-6\t\t\t\t# [G] = 6 uGauss  [CGS units]\n",
    "H_T = H_G*1e-4          # T  [SI units]\n",
    "ne_cm = 0.01\t\t\t# cm^-3\t[CGS units]\n",
    "Te = 3e5\t\t\t\t# [K]\n",
    "N0 = 1e-10\t\t\t\t# what should this be..? [m^-3 MeV^-1]\n",
    "\n",
    "pc2cm = 3.086e18"
   ]
  },
  {
   "cell_type": "code",
   "execution_count": 3,
   "metadata": {},
   "outputs": [],
   "source": [
    "nu = 10**np.arange(3,10,0.05)  # 1 kHz -> 10 GHz"
   ]
  },
  {
   "cell_type": "code",
   "execution_count": 4,
   "metadata": {},
   "outputs": [
    {
     "name": "stderr",
     "output_type": "stream",
     "text": [
      "integrals.py:15: RuntimeWarning: divide by zero encountered in log\n",
      "  return quad(lambda x,*args: np.exp(x + np.log(func(np.exp(x),*args))), np.log(a), np.log(b), **kwargs)\n"
     ]
    }
   ],
   "source": [
    "em_nu = calc_em_synch(nu,H_G,N0)"
   ]
  },
  {
   "cell_type": "code",
   "execution_count": 5,
   "metadata": {},
   "outputs": [
    {
     "name": "stderr",
     "output_type": "stream",
     "text": [
      "/opt/local/Library/Frameworks/Python.framework/Versions/2.7/lib/python2.7/site-packages/scipy/integrate/quadpack.py:385: IntegrationWarning: The maximum number of subdivisions (50) has been achieved.\n",
      "  If increasing the limit yields no improvement it is advised to analyze \n",
      "  the integrand in order to determine the difficulties.  If the position of a \n",
      "  local difficulty can be determined (singularity, discontinuity) one will \n",
      "  probably gain from splitting up the interval and calling the integrator \n",
      "  on the subranges.  Perhaps a special-purpose integrator should be used.\n",
      "  warnings.warn(msg, IntegrationWarning)\n"
     ]
    }
   ],
   "source": [
    "kappa_nu = calc_kappa_synch(nu,H_G,N0)"
   ]
  },
  {
   "cell_type": "code",
   "execution_count": 6,
   "metadata": {},
   "outputs": [],
   "source": [
    "dl = gal_radius_kpc*1000.*pc2cm\n",
    "tau_nu = kappa_nu*dl"
   ]
  },
  {
   "cell_type": "code",
   "execution_count": 7,
   "metadata": {},
   "outputs": [],
   "source": [
    "i_nu = (em_nu/kappa_nu)*(1 - np.exp(-1.*tau_nu))"
   ]
  },
  {
   "cell_type": "markdown",
   "metadata": {},
   "source": [
    "We're going to compare with Longair's approximation. This is calculated in SI units:"
   ]
  },
  {
   "cell_type": "code",
   "execution_count": 8,
   "metadata": {},
   "outputs": [],
   "source": [
    "dr = gal_radius_kpc*1000.*pc2cm/100. # metres [SI units]\n",
    "A_m2 = np.pi*dr**2\n",
    "\n",
    "L_abs = L_abs_ML(nu, H_T, A_m2)"
   ]
  },
  {
   "cell_type": "markdown",
   "metadata": {},
   "source": [
    "Let's plot that up:"
   ]
  },
  {
   "cell_type": "code",
   "execution_count": 9,
   "metadata": {},
   "outputs": [
    {
     "data": {
      "image/png": "[encoded data removed]",
      "text/plain": [
       "<Figure size 432x288 with 1 Axes>"
      ]
     },
     "metadata": {},
     "output_type": "display_data"
    }
   ],
   "source": [
    "pl.subplot(111)\n",
    "pl.plot(nu/1e9, L_abs, ls=\":\")\n",
    "pl.plot(nu/1e9,i_nu*1e-3*4*np.pi*A_m2) \t# 1e-3 for conversion: erg/cm^2/Hz ---> Watts/m^2/Hz\n",
    "pl.axis([10**-6,10,1e18,1e28])\n",
    "pl.xlabel(r\"$\\nu$ [GHz]\")\n",
    "pl.ylabel(r\"L$_{\\nu}$ [Watts m$^{-2}$ Hz$^{-1}$]\")\n",
    "pl.legend()\n",
    "pl.loglog()\n",
    "pl.show()"
   ]
  },
  {
   "cell_type": "markdown",
   "metadata": {},
   "source": [
    "To make the Fig 1(b) plot we need to loop:"
   ]
  },
  {
   "cell_type": "code",
   "execution_count": null,
   "metadata": {},
   "outputs": [
    {
     "name": "stderr",
     "output_type": "stream",
     "text": [
      "/opt/local/Library/Frameworks/Python.framework/Versions/2.7/lib/python2.7/site-packages/ipykernel_launcher.py:9: RuntimeWarning: invalid value encountered in divide\n",
      "  if __name__ == '__main__':\n"
     ]
    }
   ],
   "source": [
    "pl.subplot(111)\n",
    "\n",
    "for i in range(0,7):\n",
    "    \n",
    "    N1 = N0*float(i)*100.\n",
    "    em_nu = calc_em_synch(nu,H_G,N1)\n",
    "    kappa_nu = calc_kappa_synch(nu,H_G,N1)\n",
    "    tau_nu = kappa_nu*dl\n",
    "    i_nu = (em_nu/kappa_nu)*(1 - np.exp(-1.*tau_nu))\n",
    "    pl.plot(nu/1e9,i_nu*1e-3*4*np.pi*A_m2) \t# 1e-3 for conversion: erg/cm^2/Hz ---> Watts/m^2/Hz\n",
    "\n",
    "pl.plot(nu/1e9, L_abs, ls=\":\")\n",
    "pl.axis([10**-6,10,1e18,1e28])\n",
    "pl.xlabel(r\"$\\nu$ [GHz]\")\n",
    "pl.ylabel(r\"L$_{\\nu}$ [Watts m$^{-2}$ Hz$^{-1}$]\")\n",
    "pl.legend()\n",
    "pl.loglog()\n",
    "pl.show()"
   ]
  },
  {
   "cell_type": "code",
   "execution_count": null,
   "metadata": {},
   "outputs": [],
   "source": []
  }
 ],
 "metadata": {
  "kernelspec": {
   "display_name": "Python 2",
   "language": "python",
   "name": "python2"
  },
  "language_info": {
   "codemirror_mode": {
    "name": "ipython",
    "version": 2
   },
   "file_extension": ".py",
   "mimetype": "text/x-python",
   "name": "python",
   "nbconvert_exporter": "python",
   "pygments_lexer": "ipython2",
   "version": "2.7.15"
  }
 },
 "nbformat": 4,
 "nbformat_minor": 2
}
