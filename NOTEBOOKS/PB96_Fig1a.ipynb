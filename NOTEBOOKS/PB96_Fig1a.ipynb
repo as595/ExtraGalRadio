{
 "cells": [
  {
   "cell_type": "code",
   "execution_count": 1,
   "metadata": {},
   "outputs": [],
   "source": [
    "import numpy as np\n",
    "import pylab as pl\n",
    "\n",
    "from pacholcsyk import *\n",
    "from freefree import *"
   ]
  },
  {
   "cell_type": "markdown",
   "metadata": {},
   "source": [
    "To start with we can define a few parameters of the galaxy. \n",
    "\n",
    "- We'll model it as a solid disk with width 2kpc and a radius of 15kpc. \n",
    "\n",
    "- We'll assume a galactic magnetic field strength of 6 $\\mu$G.\n",
    "\n",
    "- We'll assume a thermal electron density of 0.01 cm$^{-3}$\n",
    "\n",
    "- We'll assume a thermal electron temperature of $3\\times 10^5$ K.\n"
   ]
  },
  {
   "cell_type": "code",
   "execution_count": 2,
   "metadata": {},
   "outputs": [],
   "source": [
    "gal_radius_kpc = 15.\n",
    "gal_height_kpc = 2.\n",
    "H_G = 6e-6\t\t\t\t# [G] = 6 uGauss  [CGS units]\n",
    "ne_cm = 0.01\t\t\t# cm^-3\t[CGS units]\n",
    "Te = 3e5\t\t\t\t# [K]\n",
    "N0 = 1e-8\t\t\t\t# what should this be..? [m^-3 MeV^-1]\n",
    "\n",
    "pc2cm = 3.086e18"
   ]
  },
  {
   "cell_type": "markdown",
   "metadata": {},
   "source": [
    "We're going to use the equations from Pacholcsyk, which are all in CGS units:"
   ]
  },
  {
   "cell_type": "code",
   "execution_count": 3,
   "metadata": {},
   "outputs": [],
   "source": [
    "const_c1 = 6.27e18\t\t# page 85-86\n",
    "const_c2 = 2.37e-3\t\t# page 86 [for electrons & positrons]\n",
    "const_c3 = 1.87e-23\t\t# page 90\n",
    "const_c4 = 4.20e7\t\t# page 93"
   ]
  },
  {
   "cell_type": "markdown",
   "metadata": {},
   "source": [
    "We'll calculate the spectrum over a range of frequencies from 1 kHz to 10 GHz:"
   ]
  },
  {
   "cell_type": "code",
   "execution_count": 4,
   "metadata": {},
   "outputs": [],
   "source": [
    "nu = 10**np.arange(3,10,0.1)  # 1 kHz -> 10 GHz"
   ]
  },
  {
   "cell_type": "markdown",
   "metadata": {},
   "source": [
    "The emissivity [in CGS units] is given by:\n",
    "\n",
    "$$\n",
    "\\epsilon_{\\nu} = \\frac{1}{2}c_3 B \\sin \\theta \\int_0^{\\infty}{ N(E) F(x) {\\rm d}E }\n",
    "$$"
   ]
  },
  {
   "cell_type": "code",
   "execution_count": 5,
   "metadata": {},
   "outputs": [
    {
     "name": "stderr",
     "output_type": "stream",
     "text": [
      "integrals.py:15: RuntimeWarning: divide by zero encountered in log\n",
      "  return quad(lambda x,*args: np.exp(x + np.log(func(np.exp(x),*args))), np.log(a), np.log(b), **kwargs)\n"
     ]
    }
   ],
   "source": [
    "em_nu = calc_em_synch(nu,H_G,N0)"
   ]
  },
  {
   "cell_type": "code",
   "execution_count": 6,
   "metadata": {},
   "outputs": [],
   "source": [
    "nu_21cm = np.array([1.4e9])\n",
    "em_21cm = calc_em_synch(nu_21cm,H_G,N0)"
   ]
  },
  {
   "cell_type": "markdown",
   "metadata": {},
   "source": [
    "The free-free absorption co-efficient in units of pc$^{-1}$ is given by:\n",
    "\n",
    "$$\n",
    "\\kappa_{\\nu} = 1.64\\times 10^5~T_{\\rm e}\\,n_{\\rm e}^2\\,\\nu^{-2.1}\n",
    "$$\n",
    "\n",
    "where temperature is in Kelvin, electron density is in cm$^{-3}$ and frequency is in MHz."
   ]
  },
  {
   "cell_type": "code",
   "execution_count": 7,
   "metadata": {},
   "outputs": [],
   "source": [
    "kappa_nu = kappa_ff(nu,ne_cm,Te)  # pc^-1\n",
    "kappa_nu/= pc2cm"
   ]
  },
  {
   "cell_type": "markdown",
   "metadata": {},
   "source": [
    "The optical depth is calculated using\n",
    "\n",
    "$$\n",
    "\\tau_{\\nu} = \\int_{l.o.s.}{\\kappa_{\\nu}\\,{\\rm d}\\ell}\n",
    "$$"
   ]
  },
  {
   "cell_type": "code",
   "execution_count": 8,
   "metadata": {},
   "outputs": [],
   "source": [
    "dl = gal_radius_kpc*1000.*pc2cm\n",
    "tau_nu = kappa_nu*dl # dimensionless"
   ]
  },
  {
   "cell_type": "markdown",
   "metadata": {},
   "source": [
    "We then implement the equation of radiative transfer for an absorbing/emitting region:\n",
    "\n",
    "$$\n",
    "I_{\\nu} = S_{\\nu}\\left( 1 - {\\rm e}^{-\\tau_{\\nu}} \\right)\n",
    "$$\n",
    "\n",
    "where,\n",
    "\n",
    "$$\n",
    "S_{\\nu} = \\frac{\\epsilon_{\\nu}}{\\kappa_{\\nu}}\n",
    "$$"
   ]
  },
  {
   "cell_type": "code",
   "execution_count": 9,
   "metadata": {},
   "outputs": [],
   "source": [
    "em_nu = (em_nu/kappa_nu)*(1 - np.exp(-1.*tau_nu))"
   ]
  },
  {
   "cell_type": "markdown",
   "metadata": {},
   "source": [
    "Figure 1(a) from Protheroe & Biermann is normalised to $I_{\\rm 1.4\\,GHz}$, so let's quickly repeat that at a single frequency:"
   ]
  },
  {
   "cell_type": "code",
   "execution_count": 10,
   "metadata": {},
   "outputs": [],
   "source": [
    "kappa_21cm = kappa_ff(nu_21cm,ne_cm,Te)  # pc^-1\n",
    "kappa_21cm/= pc2cm\n",
    "tau_21cm = kappa_21cm*dl # dimensionless\n",
    "em_21cm=(em_21cm/kappa_21cm)*(1 - np.exp(-1.*tau_21cm))"
   ]
  },
  {
   "cell_type": "markdown",
   "metadata": {},
   "source": [
    "Then do the normalisation and plot the result:"
   ]
  },
  {
   "cell_type": "code",
   "execution_count": 11,
   "metadata": {},
   "outputs": [],
   "source": [
    "i_nu = em_nu/em_21cm"
   ]
  },
  {
   "cell_type": "code",
   "execution_count": 12,
   "metadata": {},
   "outputs": [
    {
     "data": {
      "image/png": "[encoded data removed]",
      "text/plain": [
       "<Figure size 432x288 with 1 Axes>"
      ]
     },
     "metadata": {},
     "output_type": "display_data"
    }
   ],
   "source": [
    "pl.subplot(111)\n",
    "pl.plot(nu/1e9,i_nu)\n",
    "pl.axis([10**-6,10,0.1,10**3])\n",
    "pl.xlabel(r\"$\\nu$ [GHz]\")\n",
    "pl.ylabel(r\"L$_{\\nu}$/L$_{\\rm 1.4\\,GHz}$\")\n",
    "pl.loglog()\n",
    "pl.show()"
   ]
  },
  {
   "cell_type": "code",
   "execution_count": null,
   "metadata": {},
   "outputs": [],
   "source": []
  }
 ],
 "metadata": {
  "kernelspec": {
   "display_name": "Python 2",
   "language": "python",
   "name": "python2"
  },
  "language_info": {
   "codemirror_mode": {
    "name": "ipython",
    "version": 2
   },
   "file_extension": ".py",
   "mimetype": "text/x-python",
   "name": "python",
   "nbconvert_exporter": "python",
   "pygments_lexer": "ipython2",
   "version": "2.7.15"
  }
 },
 "nbformat": 4,
 "nbformat_minor": 2
}
