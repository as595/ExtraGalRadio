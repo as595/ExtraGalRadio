{
 "cells": [
  {
   "cell_type": "markdown",
   "metadata": {},
   "source": [
    "This notebook makes Figure 1(a) from Protheroe & Biermann (1996; https://arxiv.org/pdf/astro-ph/9605119.pdf). There are two stages to the notebook:\n",
    "\n",
    "1. An annotated guide to the steps in the calculation;\n",
    "2. Code to reproduce the figure exactly.\n",
    "\n",
    "---"
   ]
  },
  {
   "cell_type": "code",
   "execution_count": 1,
   "metadata": {},
   "outputs": [],
   "source": [
    "import numpy as np\n",
    "import pylab as pl\n",
    "\n",
    "from pacholcsyk import *\n",
    "from freefree import *"
   ]
  },
  {
   "cell_type": "code",
   "execution_count": 2,
   "metadata": {},
   "outputs": [],
   "source": [
    "pc2cm = 3.086e18  # constant for converting pc --> cm"
   ]
  },
  {
   "cell_type": "markdown",
   "metadata": {},
   "source": [
    "To start with we can define a few parameters of the galaxy, following PB96: \n",
    "\n",
    "- We'll model it as a solid disk with height 1kpc and a radius of 15kpc. \n",
    "\n",
    "- We'll assume a galactic magnetic field strength of 6 $\\mu$G.\n",
    "\n",
    "- We'll assume a thermal electron density of 0.01 cm$^{-3}$\n",
    "\n",
    "- We'll assume a thermal electron temperature of $3\\times 10^5$ K.\n"
   ]
  },
  {
   "cell_type": "code",
   "execution_count": 3,
   "metadata": {},
   "outputs": [],
   "source": [
    "gal_radius_kpc = 15.\n",
    "gal_height_kpc = 1.\n",
    "H_G = 6e-6\t\t\t\t# [G] = 6 uGauss  [CGS units]\n",
    "ne_cm = 0.01\t\t\t# cm^-3\t[CGS units]\n",
    "Te = 3e5\t\t\t\t# [K]\n",
    "N0 = 1e-8\t\t\t\t# what should this be..? [m^-3 MeV^-1]"
   ]
  },
  {
   "cell_type": "markdown",
   "metadata": {},
   "source": [
    "We'll calculate the spectrum over a range of frequencies from 1 kHz to 10 GHz:"
   ]
  },
  {
   "cell_type": "code",
   "execution_count": 4,
   "metadata": {},
   "outputs": [],
   "source": [
    "nu = 10**np.arange(3,10,0.1)  # 1 kHz -> 10 GHz"
   ]
  },
  {
   "cell_type": "markdown",
   "metadata": {},
   "source": [
    "The emissivity [in CGS units] is given by:\n",
    "\n",
    "$$\n",
    "\\epsilon_{\\nu} = \\frac{1}{2}c_3 B \\sin \\theta \\int_0^{\\infty}{ N(E) F(x) {\\rm d}E }\n",
    "$$\n",
    "\n",
    "We're going to use the equations from Pacholcsyk. The code for these can be found in the accompanying module pacholcsyk.py."
   ]
  },
  {
   "cell_type": "code",
   "execution_count": 5,
   "metadata": {},
   "outputs": [
    {
     "name": "stderr",
     "output_type": "stream",
     "text": [
      "integrals.py:15: RuntimeWarning: divide by zero encountered in log\n",
      "  return quad(lambda x,*args: np.exp(x + np.log(func(np.exp(x),*args))), np.log(a), np.log(b), **kwargs)\n"
     ]
    }
   ],
   "source": [
    "em_nu = calc_em_synch(nu,H_G,N0)"
   ]
  },
  {
   "cell_type": "markdown",
   "metadata": {},
   "source": [
    "The free-free absorption co-efficient in units of pc$^{-1}$ is given by:\n",
    "\n",
    "$$\n",
    "\\kappa_{\\nu} = 1.64\\times 10^5~T_{\\rm e}\\,n_{\\rm e}^2\\,\\nu^{-2.1}\n",
    "$$\n",
    "\n",
    "[REF] where temperature is in Kelvin, electron density is in cm$^{-3}$ and frequency is in MHz. "
   ]
  },
  {
   "cell_type": "code",
   "execution_count": 6,
   "metadata": {},
   "outputs": [],
   "source": [
    "kappa_nu = kappa_ff(nu,ne_cm,Te)  # pc^-1\n",
    "kappa_nu/= pc2cm"
   ]
  },
  {
   "cell_type": "markdown",
   "metadata": {},
   "source": [
    "The optical depth is calculated using\n",
    "\n",
    "$$\n",
    "\\tau_{\\nu} = \\int_{l.o.s.}{\\kappa_{\\nu}\\,{\\rm d}\\ell}\n",
    "$$"
   ]
  },
  {
   "cell_type": "markdown",
   "metadata": {},
   "source": [
    "The maximum path length will be for a viewing angle of 90 degrees, when the galaxy is edge-on. The minimum path length will be for a viewing angle of 0 degrees, when the galaxy is face-on."
   ]
  },
  {
   "cell_type": "code",
   "execution_count": 7,
   "metadata": {},
   "outputs": [],
   "source": [
    "dl_max = gal_radius_kpc*1000.*pc2cm  # edge-on\n",
    "dl_min = gal_height_kpc*1000.*pc2cm  # face-on\n",
    "\n",
    "dl = dl_max\n",
    "tau_nu = kappa_nu*dl # dimensionless"
   ]
  },
  {
   "cell_type": "markdown",
   "metadata": {},
   "source": [
    "We then implement the equation of radiative transfer for an absorbing/emitting region:\n",
    "\n",
    "$$\n",
    "I_{\\nu} = S_{\\nu}\\left( 1 - {\\rm e}^{-\\tau_{\\nu}} \\right)\n",
    "$$\n",
    "\n",
    "where,\n",
    "\n",
    "$$\n",
    "S_{\\nu} = \\frac{\\epsilon_{\\nu}}{\\kappa_{\\nu}}\n",
    "$$"
   ]
  },
  {
   "cell_type": "code",
   "execution_count": 8,
   "metadata": {},
   "outputs": [],
   "source": [
    "em_nu = (em_nu/kappa_nu)*(1 - np.exp(-1.*tau_nu))"
   ]
  },
  {
   "cell_type": "markdown",
   "metadata": {},
   "source": [
    "Figure 1(a) from Protheroe & Biermann is normalised to $I_{\\rm 1.4\\,GHz}$, so let's quickly repeat that at a single frequency:"
   ]
  },
  {
   "cell_type": "code",
   "execution_count": 9,
   "metadata": {},
   "outputs": [],
   "source": [
    "nu_21cm = np.array([1.4e9])\n",
    "em_21cm = calc_em_synch(nu_21cm,H_G,N0)\n",
    "kappa_21cm = kappa_ff(nu_21cm,ne_cm,Te)  # pc^-1\n",
    "kappa_21cm/= pc2cm\n",
    "tau_21cm = kappa_21cm*dl # dimensionless\n",
    "em_21cm=(em_21cm/kappa_21cm)*(1 - np.exp(-1.*tau_21cm))"
   ]
  },
  {
   "cell_type": "markdown",
   "metadata": {},
   "source": [
    "Then do the normalisation and plot the result:"
   ]
  },
  {
   "cell_type": "code",
   "execution_count": 10,
   "metadata": {},
   "outputs": [],
   "source": [
    "i_nu = em_nu/em_21cm"
   ]
  },
  {
   "cell_type": "code",
   "execution_count": 11,
   "metadata": {},
   "outputs": [
    {
     "data": {
      "image/png": "[encoded data removed]",
      "text/plain": [
       "<Figure size 432x288 with 1 Axes>"
      ]
     },
     "metadata": {},
     "output_type": "display_data"
    }
   ],
   "source": [
    "ax = pl.subplot(111)\n",
    "pl.plot(nu/1e9,i_nu)\n",
    "pl.axis([10**-6,10,0.1,10**3])\n",
    "pl.xlabel(r\"$\\log(\\nu$ / GHz)\")\n",
    "pl.ylabel(r\"L$_{\\nu}$/L$_{\\rm 1.4\\,GHz}$\")\n",
    "pl.loglog()\n",
    "pl.show()"
   ]
  },
  {
   "cell_type": "markdown",
   "metadata": {},
   "source": [
    "----"
   ]
  },
  {
   "cell_type": "markdown",
   "metadata": {},
   "source": [
    "To make the exact plot from the Protheroe & Biermann paper:"
   ]
  },
  {
   "cell_type": "code",
   "execution_count": 12,
   "metadata": {},
   "outputs": [],
   "source": [
    "nu = 10**np.arange(3,12,0.1)  # 1 kHz -> 10 GHz\n",
    "em_nu = calc_em_synch(nu,H_G,N0)\n",
    "kappa_nu = kappa_ff(nu,ne_cm,Te)  # pc^-1\n",
    "kappa_nu/= pc2cm"
   ]
  },
  {
   "cell_type": "code",
   "execution_count": 13,
   "metadata": {},
   "outputs": [],
   "source": [
    "nu_21cm = np.array([1.4e9])\n",
    "em_21cm = calc_em_synch(nu_21cm,H_G,N0)\n",
    "kappa_21cm = kappa_ff(nu_21cm,ne_cm,Te)  # pc^-1\n",
    "kappa_21cm/= pc2cm"
   ]
  },
  {
   "cell_type": "code",
   "execution_count": 14,
   "metadata": {},
   "outputs": [],
   "source": [
    "dl_max = gal_radius_kpc*1000.*pc2cm       # edge-on [90 degrees]\n",
    "dl_min = gal_height_kpc*1000.*pc2cm       # face-on [0 degrees]\n",
    "dl_iso = 1.61*gal_height_kpc*1000.*pc2cm  # isotropic viewing angle [<sin theta> = 0.785]\n",
    "\n",
    "tau_nu_max = kappa_nu*dl_max \n",
    "tau_nu_min = kappa_nu*dl_min \n",
    "tau_nu_iso = kappa_nu*dl_iso\n",
    "\n",
    "tau_21cm_max = kappa_21cm*dl_max\n",
    "tau_21cm_min = kappa_21cm*dl_min\n",
    "tau_21cm_iso = kappa_21cm*dl_iso"
   ]
  },
  {
   "cell_type": "code",
   "execution_count": 15,
   "metadata": {},
   "outputs": [],
   "source": [
    "em_nu_max = (em_nu/kappa_nu)*(1 - np.exp(-1.*tau_nu_max))\n",
    "em_nu_min = (em_nu/kappa_nu)*(1 - np.exp(-1.*tau_nu_min))\n",
    "em_nu_iso = (em_nu/kappa_nu)*(1 - np.exp(-1.*tau_nu_iso))"
   ]
  },
  {
   "cell_type": "code",
   "execution_count": 16,
   "metadata": {},
   "outputs": [],
   "source": [
    "em_21cm_max=(em_21cm/kappa_21cm)*(1 - np.exp(-1.*tau_21cm_max))\n",
    "em_21cm_min=(em_21cm/kappa_21cm)*(1 - np.exp(-1.*tau_21cm_min))\n",
    "em_21cm_iso=(em_21cm/kappa_21cm)*(1 - np.exp(-1.*tau_21cm_iso))"
   ]
  },
  {
   "cell_type": "code",
   "execution_count": 17,
   "metadata": {},
   "outputs": [],
   "source": [
    "i_nu_max = em_nu_max/em_21cm_max\n",
    "i_nu_min = em_nu_min/em_21cm_min\n",
    "i_nu_iso = em_nu_iso/em_21cm_iso"
   ]
  },
  {
   "cell_type": "code",
   "execution_count": 19,
   "metadata": {},
   "outputs": [
    {
     "data": {
      "image/png": "[encoded data removed]",
      "text/plain": [
       "<Figure size 5760x720 with 1 Axes>"
      ]
     },
     "metadata": {},
     "output_type": "display_data"
    }
   ],
   "source": [
    "from matplotlib.ticker import AutoMinorLocator\n",
    "\n",
    "ax = pl.subplot(111)\n",
    "\n",
    "pl.plot(np.log10(nu/1e9),np.log10(i_nu_max),c='black',lw=1)\n",
    "pl.plot(np.log10(nu/1e9),np.log10(i_nu_min),c='black',lw=1)\n",
    "pl.plot(np.log10(nu/1e9),np.log10(i_nu_iso),c='black',lw=3,ls='--')\n",
    "\n",
    "# make the axes the same as in the paper:\n",
    "pl.axis([-6,1,-1,3])\n",
    "pl.xlabel(r\"$\\log(\\nu$ / GHz)\",size=15)\n",
    "pl.ylabel(r\"$\\log( L_{\\nu}$/L$_{\\rm 1.4\\,GHz})$\",size=15)\n",
    "pl.locator_params(axis='x', nbins=8)\n",
    "pl.locator_params(axis='y', nbins=5)\n",
    "ax.tick_params(which=\"both\",direction=\"in\",top=True,right=True,labelsize=15)\n",
    "ax.xaxis.set_minor_locator(AutoMinorLocator(5))\n",
    "ax.yaxis.set_minor_locator(AutoMinorLocator(5))\n",
    "ax.set_aspect(1.5)\n",
    "\n",
    "pl.rcParams['figure.figsize'] = [80, 10]\n",
    "pl.show()"
   ]
  },
  {
   "cell_type": "code",
   "execution_count": null,
   "metadata": {},
   "outputs": [],
   "source": []
  },
  {
   "cell_type": "code",
   "execution_count": null,
   "metadata": {},
   "outputs": [],
   "source": []
  }
 ],
 "metadata": {
  "kernelspec": {
   "display_name": "Python 2",
   "language": "python",
   "name": "python2"
  },
  "language_info": {
   "codemirror_mode": {
    "name": "ipython",
    "version": 2
   },
   "file_extension": ".py",
   "mimetype": "text/x-python",
   "name": "python",
   "nbconvert_exporter": "python",
   "pygments_lexer": "ipython2",
   "version": "2.7.15"
  }
 },
 "nbformat": 4,
 "nbformat_minor": 2
}
